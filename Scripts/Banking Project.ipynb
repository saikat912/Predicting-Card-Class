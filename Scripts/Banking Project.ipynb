{
 "cells": [
  {
   "cell_type": "code",
   "execution_count": 1,
   "id": "f771ef07",
   "metadata": {},
   "outputs": [],
   "source": [
    "# importing necessary libraries\n",
    "\n",
    "import os\n",
    "import numpy as np\n",
    "import pandas as pd\n",
    "import seaborn as sns\n",
    "import matplotlib.pyplot as plt\n",
    "%matplotlib inline\n",
    "import warnings\n",
    "warnings.filterwarnings(\"ignore\")"
   ]
  },
  {
   "cell_type": "code",
   "execution_count": 2,
   "id": "f8f4ad6a",
   "metadata": {},
   "outputs": [
    {
     "data": {
      "text/plain": [
       "'\\nfrom sklearn.linear_model import LinearRegression\\nfrom sklearn.svm import SVC\\nfrom sklearn.naive_bayes import MultinomialNB\\nfrom sklearn.tree import DecisionTreeClassifier\\nfrom sklearn.neighbors import KNeighborsClassifier\\nfrom sklearn.ensemble import RandomForestClassifier\\nfrom sklearn.ensemble import AdaBoostClassifier\\nfrom sklearn.ensemble import BaggingClassifier\\nfrom sklearn.ensemble import ExtraTreesClassifier\\nfrom sklearn.ensemble import GradientBoostingClassifier\\nfrom xgboost import XGBClassifier\\nfrom sklearn.linear_model import LogisticRegression\\nfrom catboost import CatBoostClassifier\\nimport lightgbm as lgb\\nfrom lightgbm import LGBMRegressor\\nfrom sklearn.metrics import make_scorer, mean_absolute_error\\nfrom sklearn.metrics import\\n'"
      ]
     },
     "execution_count": 2,
     "metadata": {},
     "output_type": "execute_result"
    }
   ],
   "source": [
    "\"\"\"\n",
    "from sklearn.linear_model import LinearRegression\n",
    "from sklearn.svm import SVC\n",
    "from sklearn.naive_bayes import MultinomialNB\n",
    "from sklearn.tree import DecisionTreeClassifier\n",
    "from sklearn.neighbors import KNeighborsClassifier\n",
    "from sklearn.ensemble import RandomForestClassifier\n",
    "from sklearn.ensemble import AdaBoostClassifier\n",
    "from sklearn.ensemble import BaggingClassifier\n",
    "from sklearn.ensemble import ExtraTreesClassifier\n",
    "from sklearn.ensemble import GradientBoostingClassifier\n",
    "from xgboost import XGBClassifier\n",
    "from sklearn.linear_model import LogisticRegression\n",
    "from catboost import CatBoostClassifier\n",
    "import lightgbm as lgb\n",
    "from lightgbm import LGBMRegressor\n",
    "from sklearn.metrics import make_scorer, mean_absolute_error\n",
    "from sklearn.metrics import\n",
    "\"\"\""
   ]
  },
  {
   "cell_type": "code",
   "execution_count": null,
   "id": "6b37ce5d",
   "metadata": {},
   "outputs": [],
   "source": [
    "bank = pd.read_csv('Bank customers.csv')\n",
    "bank.head()"
   ]
  },
  {
   "cell_type": "code",
   "execution_count": null,
   "id": "c075e8b4",
   "metadata": {},
   "outputs": [],
   "source": [
    "bank.shape"
   ]
  },
  {
   "cell_type": "code",
   "execution_count": null,
   "id": "77b463da",
   "metadata": {},
   "outputs": [],
   "source": [
    "bank.isnull().sum()"
   ]
  },
  {
   "cell_type": "code",
   "execution_count": null,
   "id": "14a069e6",
   "metadata": {},
   "outputs": [],
   "source": [
    "bank.info()"
   ]
  },
  {
   "cell_type": "code",
   "execution_count": null,
   "id": "68711f73",
   "metadata": {},
   "outputs": [],
   "source": [
    "# So we will be needing to extract data from Income_Category columns and other \n",
    "# categorical columns, since as you can see the data is in string format and the \n",
    "# range is giving, not an exact value which can be feeded into the model directly\n"
   ]
  },
  {
   "cell_type": "code",
   "execution_count": null,
   "id": "91683bbc",
   "metadata": {},
   "outputs": [],
   "source": [
    "sns.set_theme(style='whitegrid')\n",
    "sns.boxplot(bank['Customer_Age'])\n",
    "plt.show()"
   ]
  },
  {
   "cell_type": "code",
   "execution_count": null,
   "id": "1156b8ae",
   "metadata": {},
   "outputs": [],
   "source": [
    "# Most of the customers are somewhere near 45 years age, some outlier that are depicted by the \n",
    "# dots on the right hand side at the age 70 and maybe 75"
   ]
  },
  {
   "cell_type": "code",
   "execution_count": null,
   "id": "5cdf2acd",
   "metadata": {},
   "outputs": [],
   "source": [
    "bank.columns"
   ]
  },
  {
   "cell_type": "code",
   "execution_count": null,
   "id": "72fb9a71",
   "metadata": {},
   "outputs": [],
   "source": [
    "bank[['Gender','Credit_Limit']].groupby('Gender').agg(['mean', 'count'])"
   ]
  },
  {
   "cell_type": "code",
   "execution_count": null,
   "id": "95ec7ce4",
   "metadata": {},
   "outputs": [],
   "source": [
    "bank[['Gender','Avg_Utilization_Ratio']].groupby('Gender').agg(['mean', 'count'])"
   ]
  },
  {
   "cell_type": "code",
   "execution_count": null,
   "id": "72e8263b",
   "metadata": {},
   "outputs": [],
   "source": [
    "bank_cards = bank.groupby('Card_Category')\n",
    "bank_cards['Customer_Age'].max()"
   ]
  },
  {
   "cell_type": "code",
   "execution_count": null,
   "id": "b76032d1",
   "metadata": {},
   "outputs": [],
   "source": [
    "bank_cards = bank.groupby('Card_Category')\n",
    "bank_cards['Customer_Age'].min()"
   ]
  },
  {
   "cell_type": "code",
   "execution_count": null,
   "id": "d83fc3a9",
   "metadata": {},
   "outputs": [],
   "source": [
    "bank_cards['Avg_Utilization_Ratio'].mean()"
   ]
  },
  {
   "cell_type": "code",
   "execution_count": null,
   "id": "911cfd1c",
   "metadata": {},
   "outputs": [],
   "source": [
    "bank_marital = bank.groupby('Marital_Status')"
   ]
  },
  {
   "cell_type": "code",
   "execution_count": null,
   "id": "189ae20b",
   "metadata": {},
   "outputs": [],
   "source": [
    "bank_marital['Card_Category'].value_counts()"
   ]
  },
  {
   "cell_type": "code",
   "execution_count": null,
   "id": "d7484739",
   "metadata": {},
   "outputs": [],
   "source": [
    "# Now lets move forward and see if we have categorical data in our dataset\n",
    "bank.head(2)"
   ]
  },
  {
   "cell_type": "code",
   "execution_count": null,
   "id": "43914e5f",
   "metadata": {},
   "outputs": [],
   "source": [
    "bank['Attrition_Flag'].value_counts()"
   ]
  },
  {
   "cell_type": "code",
   "execution_count": null,
   "id": "a8eb84f2",
   "metadata": {},
   "outputs": [],
   "source": [
    "bank['Gender'].value_counts()"
   ]
  },
  {
   "cell_type": "code",
   "execution_count": null,
   "id": "2cd5952e",
   "metadata": {},
   "outputs": [],
   "source": [
    "bank['Education_Level'].value_counts()"
   ]
  },
  {
   "cell_type": "code",
   "execution_count": null,
   "id": "d8de022f",
   "metadata": {},
   "outputs": [],
   "source": [
    "bank['Marital_Status'].value_counts()"
   ]
  },
  {
   "cell_type": "code",
   "execution_count": null,
   "id": "9b67c782",
   "metadata": {},
   "outputs": [],
   "source": [
    "def ref1(x):\n",
    "    if x=='M':\n",
    "        return 1\n",
    "    else:\n",
    "        return 0\n",
    "bank['Gender'] = bank['Gender'].map(ref1)"
   ]
  },
  {
   "cell_type": "code",
   "execution_count": null,
   "id": "d10f9ddd",
   "metadata": {},
   "outputs": [],
   "source": [
    "bank['Gender'].value_counts()"
   ]
  },
  {
   "cell_type": "code",
   "execution_count": null,
   "id": "6e6c4d02",
   "metadata": {},
   "outputs": [],
   "source": [
    "def ref2(x):\n",
    "    if x =='Existing Customer':\n",
    "        return 1\n",
    "    else:\n",
    "        return 0\n",
    "bank['Attrition_Flag'] = bank['Attrition_Flag'].map(ref2)"
   ]
  },
  {
   "cell_type": "code",
   "execution_count": null,
   "id": "66026610",
   "metadata": {},
   "outputs": [],
   "source": [
    "bank['Attrition_Flag'].value_counts()"
   ]
  }
 ],
 "metadata": {
  "kernelspec": {
   "display_name": "Python 3 (ipykernel)",
   "language": "python",
   "name": "python3"
  },
  "language_info": {
   "codemirror_mode": {
    "name": "ipython",
    "version": 3
   },
   "file_extension": ".py",
   "mimetype": "text/x-python",
   "name": "python",
   "nbconvert_exporter": "python",
   "pygments_lexer": "ipython3",
   "version": "3.9.13"
  }
 },
 "nbformat": 4,
 "nbformat_minor": 5
}
